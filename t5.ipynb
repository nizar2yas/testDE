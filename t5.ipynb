{
 "cells": [
  {
   "cell_type": "code",
   "execution_count": 2,
   "metadata": {},
   "outputs": [],
   "source": [
    "from src.utils import load_medication_data, get_distinct_journal"
   ]
  },
  {
   "cell_type": "code",
   "execution_count": 3,
   "metadata": {},
   "outputs": [],
   "source": [
    "data =load_medication_data(\"output.json\")"
   ]
  },
  {
   "cell_type": "code",
   "execution_count": 4,
   "metadata": {},
   "outputs": [],
   "source": [
    "def get_journals_for_drug(data,drug):\n",
    "    for item in data:\n",
    "        if item['name']== drug:\n",
    "            return item"
   ]
  },
  {
   "cell_type": "code",
   "execution_count": 18,
   "metadata": {},
   "outputs": [
    {
     "data": {
      "text/plain": [
       "{'The Journal of pediatrics'}"
      ]
     },
     "execution_count": 18,
     "metadata": {},
     "output_type": "execute_result"
    }
   ],
   "source": [
    "drug=\"DIPHENHYDRAMINE\"\n",
    "journals = get_journals_for_drug(data['result'],drug)\n",
    "clinical_trials_journals=get_distinct_journal(journals['clinical_trials'])\n",
    "pub_med_journal=get_distinct_journal(journals['pubMed'])\n",
    "only_pub_med =pub_med_journal - clinical_trials_journals\n",
    "only_pub_med"
   ]
  },
  {
   "cell_type": "code",
   "execution_count": 26,
   "metadata": {},
   "outputs": [
    {
     "data": {
      "text/plain": [
       "{'DIPHENHYDRAMINE'}"
      ]
     },
     "execution_count": 26,
     "metadata": {},
     "output_type": "execute_result"
    }
   ],
   "source": [
    "def get_mentioned_drugs_in_jornals(data,journals):\n",
    "    drugs=set()\n",
    "    for item in data:\n",
    "        drug =item['name']\n",
    "        for journal in item['pubMed']:\n",
    "            if journal['journal'] in journals:\n",
    "                drugs.add(drug)\n",
    "                break\n",
    "    return drugs\n",
    "\n",
    "get_mentioned_drugs_in_jornals(data['result'],only_pub_med)"
   ]
  },
  {
   "cell_type": "code",
   "execution_count": null,
   "metadata": {},
   "outputs": [],
   "source": [
    "drug=\"DIPHENHYDRAMINE\"\n",
    "\n",
    "journals = get_journals_of_drug(data['result'],drug)\n",
    "\n",
    "if journals:\n",
    "    clinical_trials_journals=get_distinct_journal(journals['clinical_trials'])\n",
    "    pub_med_journal=get_distinct_journal(journals['pubMed'])\n",
    "    only_pub_med =pub_med_journal - clinical_trials_journals"
   ]
  }
 ],
 "metadata": {
  "kernelspec": {
   "display_name": "venv",
   "language": "python",
   "name": "python3"
  },
  "language_info": {
   "codemirror_mode": {
    "name": "ipython",
    "version": 3
   },
   "file_extension": ".py",
   "mimetype": "text/x-python",
   "name": "python",
   "nbconvert_exporter": "python",
   "pygments_lexer": "ipython3",
   "version": "3.12.3"
  }
 },
 "nbformat": 4,
 "nbformat_minor": 2
}
