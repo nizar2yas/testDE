{
 "cells": [
  {
   "cell_type": "code",
   "execution_count": 1,
   "metadata": {},
   "outputs": [],
   "source": [
    "import json\n",
    "\n",
    "def load_medication_data(file_path):\n",
    "    \"\"\"Loads medication data from a JSON file.\"\"\"\n",
    "    with open(file_path, 'r', encoding='utf-8') as file:\n",
    "        return json.load(file)\n"
   ]
  },
  {
   "cell_type": "code",
   "execution_count": 8,
   "metadata": {},
   "outputs": [],
   "source": [
    "data = load_medication_data(\"output.json\")"
   ]
  },
  {
   "cell_type": "code",
   "execution_count": 21,
   "metadata": {},
   "outputs": [],
   "source": [
    "def get_distinct_journal(journals):\n",
    "    result = set()\n",
    "    for journal in journals:\n",
    "        result.add(journal.get('journal'))\n",
    "    return result"
   ]
  },
  {
   "cell_type": "code",
   "execution_count": 17,
   "metadata": {},
   "outputs": [
    {
     "data": {
      "text/plain": [
       "[{'title': 'Use of Diphenhydramine as an Adjunctive Sedative for Colonoscopy in Patients Chronically on Opioids',\n",
       "  'date': '1 January 2020',\n",
       "  'journal': 'Journal of emergency nursing'},\n",
       " {'title': 'Phase 2 Study IV QUZYTTIR™ (Cetirizine Hydrochloride Injection) vs V Diphenhydramine',\n",
       "  'date': '1 January 2020',\n",
       "  'journal': 'Journal of emergency nursing'},\n",
       " {'title': 'Feasibility of a Randomized Controlled Clinical Trial Comparing the Use of Cetirizine to Replace Diphenhydramine in the Prevention of Reactions Related to Paclitaxel',\n",
       "  'date': '1 January 2020',\n",
       "  'journal': 'Journal of emergency nursing'}]"
      ]
     },
     "execution_count": 17,
     "metadata": {},
     "output_type": "execute_result"
    }
   ],
   "source": [
    "data['result'][0]['clinical_trials']"
   ]
  },
  {
   "cell_type": "code",
   "execution_count": 24,
   "metadata": {},
   "outputs": [
    {
     "data": {
      "text/plain": [
       "set"
      ]
     },
     "execution_count": 24,
     "metadata": {},
     "output_type": "execute_result"
    }
   ],
   "source": [
    "get_distinct_journal(data['result'][0]['clinical_trials'])"
   ]
  },
  {
   "cell_type": "code",
   "execution_count": 31,
   "metadata": {},
   "outputs": [
    {
     "data": {
      "text/plain": [
       "'TETRACYCLINE'"
      ]
     },
     "execution_count": 31,
     "metadata": {},
     "output_type": "execute_result"
    }
   ],
   "source": [
    "def get_journal_with_most_distinct_medications(data):\n",
    "    drugs_journals = {}\n",
    "    for drugs in data['result']:\n",
    "        name= drugs['name']\n",
    "        clinical_trials_journals=get_distinct_journal(drugs['clinical_trials'])\n",
    "        pub_med_journal=get_distinct_journal(drugs['pubMed'])\n",
    "        drugs_journals[name] = clinical_trials_journals.union(pub_med_journal)\n",
    "    return max(drugs_journals, key=lambda k: len(drugs_journals[k]))"
   ]
  },
  {
   "cell_type": "code",
   "execution_count": 27,
   "metadata": {},
   "outputs": [
    {
     "ename": "KeyError",
     "evalue": "'DIPHENHYDRAMINE'",
     "output_type": "error",
     "traceback": [
      "\u001b[0;31m---------------------------------------------------------------------------\u001b[0m",
      "\u001b[0;31mKeyError\u001b[0m                                  Traceback (most recent call last)",
      "Cell \u001b[0;32mIn[27], line 1\u001b[0m\n\u001b[0;32m----> 1\u001b[0m \u001b[43mget_journal_with_most_distinct_medications\u001b[49m\u001b[43m(\u001b[49m\u001b[43mdata\u001b[49m\u001b[43m)\u001b[49m\n",
      "Cell \u001b[0;32mIn[25], line 12\u001b[0m, in \u001b[0;36mget_journal_with_most_distinct_medications\u001b[0;34m(data)\u001b[0m\n\u001b[1;32m      8\u001b[0m     pub_med_journal\u001b[38;5;241m=\u001b[39mget_distinct_journal(drugs[\u001b[38;5;124m'\u001b[39m\u001b[38;5;124mpubMed\u001b[39m\u001b[38;5;124m'\u001b[39m])\n\u001b[1;32m     10\u001b[0m     drugs_journals[name] \u001b[38;5;241m=\u001b[39m clinical_trials_journals\u001b[38;5;241m.\u001b[39munion(pub_med_journal)\n\u001b[0;32m---> 12\u001b[0m \u001b[38;5;28;01mreturn\u001b[39;00m \u001b[38;5;28;43mmax\u001b[39;49m\u001b[43m(\u001b[49m\u001b[43mdrugs_journals\u001b[49m\u001b[43m,\u001b[49m\u001b[43m \u001b[49m\u001b[43mkey\u001b[49m\u001b[38;5;241;43m=\u001b[39;49m\u001b[38;5;28;43;01mlambda\u001b[39;49;00m\u001b[43m \u001b[49m\u001b[43mk\u001b[49m\u001b[43m:\u001b[49m\u001b[43m \u001b[49m\u001b[38;5;28;43mlen\u001b[39;49m\u001b[43m(\u001b[49m\u001b[43mdata\u001b[49m\u001b[43m[\u001b[49m\u001b[43mk\u001b[49m\u001b[43m]\u001b[49m\u001b[43m)\u001b[49m\u001b[43m)\u001b[49m\n",
      "Cell \u001b[0;32mIn[25], line 12\u001b[0m, in \u001b[0;36mget_journal_with_most_distinct_medications.<locals>.<lambda>\u001b[0;34m(k)\u001b[0m\n\u001b[1;32m      8\u001b[0m     pub_med_journal\u001b[38;5;241m=\u001b[39mget_distinct_journal(drugs[\u001b[38;5;124m'\u001b[39m\u001b[38;5;124mpubMed\u001b[39m\u001b[38;5;124m'\u001b[39m])\n\u001b[1;32m     10\u001b[0m     drugs_journals[name] \u001b[38;5;241m=\u001b[39m clinical_trials_journals\u001b[38;5;241m.\u001b[39munion(pub_med_journal)\n\u001b[0;32m---> 12\u001b[0m \u001b[38;5;28;01mreturn\u001b[39;00m \u001b[38;5;28mmax\u001b[39m(drugs_journals, key\u001b[38;5;241m=\u001b[39m\u001b[38;5;28;01mlambda\u001b[39;00m k: \u001b[38;5;28mlen\u001b[39m(\u001b[43mdata\u001b[49m\u001b[43m[\u001b[49m\u001b[43mk\u001b[49m\u001b[43m]\u001b[49m))\n",
      "\u001b[0;31mKeyError\u001b[0m: 'DIPHENHYDRAMINE'"
     ]
    }
   ],
   "source": [
    "get_journal_with_most_distinct_medications(data)"
   ]
  },
  {
   "cell_type": "code",
   "execution_count": null,
   "metadata": {},
   "outputs": [],
   "source": []
  }
 ],
 "metadata": {
  "kernelspec": {
   "display_name": "venv",
   "language": "python",
   "name": "python3"
  },
  "language_info": {
   "codemirror_mode": {
    "name": "ipython",
    "version": 3
   },
   "file_extension": ".py",
   "mimetype": "text/x-python",
   "name": "python",
   "nbconvert_exporter": "python",
   "pygments_lexer": "ipython3",
   "version": "3.12.3"
  }
 },
 "nbformat": 4,
 "nbformat_minor": 2
}
